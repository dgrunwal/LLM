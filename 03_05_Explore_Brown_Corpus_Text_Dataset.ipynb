{
  "nbformat": 4,
  "nbformat_minor": 0,
  "metadata": {
    "colab": {
      "provenance": []
    },
    "kernelspec": {
      "name": "python3",
      "display_name": "Python 3"
    },
    "language_info": {
      "name": "python"
    }
  },
  "cells": [
    {
      "cell_type": "code",
      "execution_count": null,
      "metadata": {
        "colab": {
          "base_uri": "https://localhost:8080/"
        },
        "id": "ST-95-aC3eHh",
        "outputId": "d66fbe1e-cfec-46d1-dea5-d5a0d68a92a2"
      },
      "outputs": [
        {
          "output_type": "stream",
          "name": "stderr",
          "text": [
            "[nltk_data] Downloading package brown to /root/nltk_data...\n",
            "[nltk_data]   Unzipping corpora/brown.zip.\n"
          ]
        },
        {
          "output_type": "execute_result",
          "data": {
            "text/plain": [
              "True"
            ]
          },
          "metadata": {},
          "execution_count": 1
        }
      ],
      "source": [
        "import nltk\n",
        "nltk.download(\"brown\")"
      ]
    },
    {
      "cell_type": "code",
      "source": [
        "from nltk.corpus import brown"
      ],
      "metadata": {
        "id": "c0MIIsBS6ThY"
      },
      "execution_count": null,
      "outputs": []
    },
    {
      "cell_type": "code",
      "source": [
        "brown.categories()"
      ],
      "metadata": {
        "colab": {
          "base_uri": "https://localhost:8080/"
        },
        "id": "U1g8gB3z6Xtu",
        "outputId": "8692bfb5-633c-46e0-e40b-8fc5c5f0e369"
      },
      "execution_count": null,
      "outputs": [
        {
          "output_type": "execute_result",
          "data": {
            "text/plain": [
              "['adventure',\n",
              " 'belles_lettres',\n",
              " 'editorial',\n",
              " 'fiction',\n",
              " 'government',\n",
              " 'hobbies',\n",
              " 'humor',\n",
              " 'learned',\n",
              " 'lore',\n",
              " 'mystery',\n",
              " 'news',\n",
              " 'religion',\n",
              " 'reviews',\n",
              " 'romance',\n",
              " 'science_fiction']"
            ]
          },
          "metadata": {},
          "execution_count": 3
        }
      ]
    },
    {
      "cell_type": "code",
      "source": [
        "brown.sents(categories=[\"news\"])[:5]"
      ],
      "metadata": {
        "colab": {
          "base_uri": "https://localhost:8080/"
        },
        "id": "CLNdiNPH6ZSP",
        "outputId": "7fb34538-af8b-424d-b74c-407c168d653c"
      },
      "execution_count": null,
      "outputs": [
        {
          "output_type": "execute_result",
          "data": {
            "text/plain": [
              "[['The',\n",
              "  'Fulton',\n",
              "  'County',\n",
              "  'Grand',\n",
              "  'Jury',\n",
              "  'said',\n",
              "  'Friday',\n",
              "  'an',\n",
              "  'investigation',\n",
              "  'of',\n",
              "  \"Atlanta's\",\n",
              "  'recent',\n",
              "  'primary',\n",
              "  'election',\n",
              "  'produced',\n",
              "  '``',\n",
              "  'no',\n",
              "  'evidence',\n",
              "  \"''\",\n",
              "  'that',\n",
              "  'any',\n",
              "  'irregularities',\n",
              "  'took',\n",
              "  'place',\n",
              "  '.'],\n",
              " ['The',\n",
              "  'jury',\n",
              "  'further',\n",
              "  'said',\n",
              "  'in',\n",
              "  'term-end',\n",
              "  'presentments',\n",
              "  'that',\n",
              "  'the',\n",
              "  'City',\n",
              "  'Executive',\n",
              "  'Committee',\n",
              "  ',',\n",
              "  'which',\n",
              "  'had',\n",
              "  'over-all',\n",
              "  'charge',\n",
              "  'of',\n",
              "  'the',\n",
              "  'election',\n",
              "  ',',\n",
              "  '``',\n",
              "  'deserves',\n",
              "  'the',\n",
              "  'praise',\n",
              "  'and',\n",
              "  'thanks',\n",
              "  'of',\n",
              "  'the',\n",
              "  'City',\n",
              "  'of',\n",
              "  'Atlanta',\n",
              "  \"''\",\n",
              "  'for',\n",
              "  'the',\n",
              "  'manner',\n",
              "  'in',\n",
              "  'which',\n",
              "  'the',\n",
              "  'election',\n",
              "  'was',\n",
              "  'conducted',\n",
              "  '.'],\n",
              " ['The',\n",
              "  'September-October',\n",
              "  'term',\n",
              "  'jury',\n",
              "  'had',\n",
              "  'been',\n",
              "  'charged',\n",
              "  'by',\n",
              "  'Fulton',\n",
              "  'Superior',\n",
              "  'Court',\n",
              "  'Judge',\n",
              "  'Durwood',\n",
              "  'Pye',\n",
              "  'to',\n",
              "  'investigate',\n",
              "  'reports',\n",
              "  'of',\n",
              "  'possible',\n",
              "  '``',\n",
              "  'irregularities',\n",
              "  \"''\",\n",
              "  'in',\n",
              "  'the',\n",
              "  'hard-fought',\n",
              "  'primary',\n",
              "  'which',\n",
              "  'was',\n",
              "  'won',\n",
              "  'by',\n",
              "  'Mayor-nominate',\n",
              "  'Ivan',\n",
              "  'Allen',\n",
              "  'Jr.',\n",
              "  '.'],\n",
              " ['``',\n",
              "  'Only',\n",
              "  'a',\n",
              "  'relative',\n",
              "  'handful',\n",
              "  'of',\n",
              "  'such',\n",
              "  'reports',\n",
              "  'was',\n",
              "  'received',\n",
              "  \"''\",\n",
              "  ',',\n",
              "  'the',\n",
              "  'jury',\n",
              "  'said',\n",
              "  ',',\n",
              "  '``',\n",
              "  'considering',\n",
              "  'the',\n",
              "  'widespread',\n",
              "  'interest',\n",
              "  'in',\n",
              "  'the',\n",
              "  'election',\n",
              "  ',',\n",
              "  'the',\n",
              "  'number',\n",
              "  'of',\n",
              "  'voters',\n",
              "  'and',\n",
              "  'the',\n",
              "  'size',\n",
              "  'of',\n",
              "  'this',\n",
              "  'city',\n",
              "  \"''\",\n",
              "  '.'],\n",
              " ['The',\n",
              "  'jury',\n",
              "  'said',\n",
              "  'it',\n",
              "  'did',\n",
              "  'find',\n",
              "  'that',\n",
              "  'many',\n",
              "  'of',\n",
              "  \"Georgia's\",\n",
              "  'registration',\n",
              "  'and',\n",
              "  'election',\n",
              "  'laws',\n",
              "  '``',\n",
              "  'are',\n",
              "  'outmoded',\n",
              "  'or',\n",
              "  'inadequate',\n",
              "  'and',\n",
              "  'often',\n",
              "  'ambiguous',\n",
              "  \"''\",\n",
              "  '.']]"
            ]
          },
          "metadata": {},
          "execution_count": 4
        }
      ]
    },
    {
      "cell_type": "code",
      "source": [
        "\" \".join(brown.words(categories=[\"news\"])[:100])"
      ],
      "metadata": {
        "colab": {
          "base_uri": "https://localhost:8080/",
          "height": 87
        },
        "id": "MPEbmPcO6nYX",
        "outputId": "91f5ce3f-9cb6-4596-d7c0-edbf538a23bb"
      },
      "execution_count": null,
      "outputs": [
        {
          "output_type": "execute_result",
          "data": {
            "text/plain": [
              "\"The Fulton County Grand Jury said Friday an investigation of Atlanta's recent primary election produced `` no evidence '' that any irregularities took place . The jury further said in term-end presentments that the City Executive Committee , which had over-all charge of the election , `` deserves the praise and thanks of the City of Atlanta '' for the manner in which the election was conducted . The September-October term jury had been charged by Fulton Superior Court Judge Durwood Pye to investigate reports of possible `` irregularities '' in the hard-fought primary which was won by Mayor-nominate Ivan\""
            ],
            "application/vnd.google.colaboratory.intrinsic+json": {
              "type": "string"
            }
          },
          "metadata": {},
          "execution_count": 6
        }
      ]
    },
    {
      "cell_type": "code",
      "source": [
        "# prompt: Generate code to perform a word frequency count in the news category\n",
        "\n",
        "\n",
        "from collections import Counter\n",
        "\n",
        "# Get the words from the news category\n",
        "news_words = brown.words(categories=[\"news\"])\n",
        "\n",
        "# Perform word frequency count\n",
        "word_counts = Counter(news_words)\n",
        "\n",
        "# Print the most common words (e.g., top 10)\n",
        "print(word_counts.most_common(10))\n"
      ],
      "metadata": {
        "colab": {
          "base_uri": "https://localhost:8080/"
        },
        "id": "ZwggKWyp68GW",
        "outputId": "ea517dbf-6bbb-44d6-d0b6-ad19e5fd1203"
      },
      "execution_count": null,
      "outputs": [
        {
          "output_type": "stream",
          "name": "stdout",
          "text": [
            "[('the', 5580), (',', 5188), ('.', 4030), ('of', 2849), ('and', 2146), ('to', 2116), ('a', 1993), ('in', 1893), ('for', 943), ('The', 806)]\n"
          ]
        }
      ]
    },
    {
      "cell_type": "code",
      "source": [
        "brown_tagged = brown.tagged_words(categories=[\"news\"])\n",
        "print(brown_tagged[:2])"
      ],
      "metadata": {
        "colab": {
          "base_uri": "https://localhost:8080/"
        },
        "id": "BrE_SzGH7QBn",
        "outputId": "f0fc4fe0-720e-40f4-c129-6fe3a21d415b"
      },
      "execution_count": null,
      "outputs": [
        {
          "output_type": "stream",
          "name": "stdout",
          "text": [
            "[('The', 'AT'), ('Fulton', 'NP-TL')]\n"
          ]
        }
      ]
    },
    {
      "cell_type": "code",
      "source": [],
      "metadata": {
        "id": "soygAhjM7e6c"
      },
      "execution_count": null,
      "outputs": []
    }
  ]
}